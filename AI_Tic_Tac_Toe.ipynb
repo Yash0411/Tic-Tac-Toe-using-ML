{
  "nbformat": 4,
  "nbformat_minor": 0,
  "metadata": {
    "colab": {
      "name": "AI-Tic-Tac-Toe.ipynb",
      "provenance": [],
      "collapsed_sections": [],
      "authorship_tag": "ABX9TyNinPMYLwZeqY4gRtJKZ9iL",
      "include_colab_link": true
    },
    "kernelspec": {
      "name": "python3",
      "display_name": "Python 3"
    },
    "accelerator": "GPU"
  },
  "cells": [
    {
      "cell_type": "markdown",
      "metadata": {
        "id": "view-in-github",
        "colab_type": "text"
      },
      "source": [
        "<a href=\"https://colab.research.google.com/github/Yash0411/Tic-Tac-Toe-using-ML/blob/master/AI_Tic_Tac_Toe.ipynb\" target=\"_parent\"><img src=\"https://colab.research.google.com/assets/colab-badge.svg\" alt=\"Open In Colab\"/></a>"
      ]
    },
    {
      "cell_type": "markdown",
      "metadata": {
        "id": "d2GqR80iy4wr",
        "colab_type": "text"
      },
      "source": [
        "#**Machine Learns to play Tic Tac Toe**\n",
        "---"
      ]
    },
    {
      "cell_type": "code",
      "metadata": {
        "id": "NQRv5m8UuaqR",
        "colab_type": "code",
        "colab": {}
      },
      "source": [
        "from keras import Sequential\n",
        "import tensorflow as tf\n",
        "import pandas as pd\n",
        "import numpy as np\n",
        "import random\n",
        "\n",
        "from keras.utils.np_utils import to_categorical"
      ],
      "execution_count": null,
      "outputs": []
    },
    {
      "cell_type": "markdown",
      "metadata": {
        "id": "lt2P0iJFy7kM",
        "colab_type": "text"
      },
      "source": [
        "# Generation of the dataset\n",
        "\n",
        "\n",
        "*   1000 Games are simulated.\n",
        "*   Each board state and move is stored in an array game.\n",
        "*   If the game is draw or 'O' wins which is the AI player in the further played games, each element in the array game is added to the array gameHist. This the generation of the game history.\n",
        "*   The array gameHist is an array of tuples having two elements. First one as board state while second one as move to be played.\n",
        "\n",
        "\n",
        "\n",
        "\n",
        " \n",
        "\n"
      ]
    },
    {
      "cell_type": "code",
      "metadata": {
        "id": "cYGeJQQ1fDZ0",
        "colab_type": "code",
        "colab": {}
      },
      "source": [
        "import csv\n",
        "import numpy as np\n",
        "import pandas as pd\n",
        "import os\n",
        "import random\n",
        "import copy\n",
        "\n",
        "# name of csv file  \n",
        "filename = \"/content/dataset.csv\"\n",
        "fields = ['Box1','Box2','Box3','Box4','Box5','Box6','Box7','Box8','Box9','Predict']\n",
        "# writing to csv file  \n",
        "with open(filename, 'w') as csvfile:  \n",
        "    # creating a csv writer object  \n",
        "    csvwriter = csv.writer(csvfile)  \n",
        "        \n",
        "    # writing the fields  \n",
        "    csvwriter.writerow(fields)  \n",
        "\n",
        "    rows = 3\n",
        "    cols = 3\n",
        "    board_size = rows * cols\n",
        "    board = [\n",
        "              [0, 0, 0],\n",
        "              [0, 0, 0],\n",
        "              [0, 0, 0]\n",
        "          ]\n",
        "      \n",
        "\n",
        "    def initBoard():\n",
        "      board = [\n",
        "              [0, 0, 0],\n",
        "              [0, 0, 0],\n",
        "              [0, 0, 0]\n",
        "          ]\n",
        "      return board\n",
        "\n",
        "    winner = None\n",
        "    turn = None\n",
        "    gameHist = []\n",
        "    game = []\n",
        "\n",
        "    X = 0\n",
        "    O = 0\n",
        "    D = 0\n",
        "    \n",
        "    \n",
        "    def endgame(step):\n",
        "\n",
        "      #Cols\n",
        "      for i in range(len(board)):\n",
        "        if board[i][0]==board[i][1]==board[i][2]==1:\n",
        "          return 1\n",
        "        if board[i][0]==board[i][1]==board[i][2]==-1:\n",
        "          return 2\n",
        "\n",
        "      #Rows\n",
        "      for i in range(3):\n",
        "        if board[0][i]==board[1][i]==board[2][i]==1:\n",
        "          return 1\n",
        "        if board[0][i]==board[1][i]==board[2][i]==-1:\n",
        "          return 2\n",
        "\n",
        "      if board[0][0]==board[1][1]==board[2][2]==1 or board[0][0]==board[1][1]==board[2][2]==1:\n",
        "        return 1\n",
        "\n",
        "      if board[0][2]==board[1][1]==board[2][0]==-1 or board[0][2]==board[1][1]==board[2][0]==-1:\n",
        "        return 2\n",
        "\n",
        "      step=9\n",
        "      for i in range(len(board)):\n",
        "        for j in range(len(board)):\n",
        "          if board[i][j]==0:\n",
        "            step=0\n",
        "            break\n",
        "\n",
        "      if step==9:\n",
        "        return 0\n",
        "        \n",
        "      return -1\n",
        "    \n",
        "    \n",
        "    def getAvailableMoves():\n",
        "      am = []\n",
        "      for i in range(len(board)):\n",
        "        for j in range(len(board)):\n",
        "          if board[i][j] ==0:\n",
        "            am.append((i,j))\n",
        "      return am\n",
        "\n",
        "\n",
        "    def player1(selected_move):\n",
        "      \n",
        "      board[selected_move[0]][selected_move[1]]=1\n",
        "\n",
        "    \n",
        "    def player2(selected_move):\n",
        "      \n",
        "      board[selected_move[0]][selected_move[1]]=-1\n",
        "      \n",
        "\n",
        "    def play(turn):\n",
        "      step =0\n",
        "      game = []\n",
        "\n",
        "      while(step<9):\n",
        "        \n",
        "        game.append(copy.deepcopy(board))\n",
        "\n",
        "        availableMoves = getAvailableMoves()\n",
        "        #print(len(availableMoves))\n",
        "        z = random.randrange(0,len(availableMoves))\n",
        "        \n",
        "        selected_move = availableMoves[z]\n",
        "        game.append(selected_move)\n",
        "        #print(game)\n",
        "            \n",
        "        if turn%2==1:\n",
        "          player1(selected_move);\n",
        "        else:\n",
        "          #print(game)\n",
        "          player2(selected_move);\n",
        "        turn+=1\n",
        "        step+=1\n",
        "      \n",
        "\n",
        "      if endgame(step)!=0 or step==9:\n",
        "        X = 0\n",
        "        O = 0\n",
        "        D = 0\n",
        "        k = endgame(step)\n",
        "        #print(step,k)\n",
        "        if k==1:\n",
        "          X+=1    \n",
        "          return\n",
        "        if k==-1:\n",
        "          for i in game:\n",
        "            gameHist.append(i)\n",
        "          O+=1\n",
        "          return\n",
        "        if k==2:\n",
        "          D+=1\n",
        "          for i in game:\n",
        "            gameHist.append(i)\n",
        "          return\n",
        "\n",
        "\n",
        "    def initiate(i):\n",
        "\n",
        "      for i in range(3):\n",
        "        for j in range(3):\n",
        "          board[i][j]=0\n",
        "      winner = None\n",
        "      turn = i%2\n",
        "      game = []\n",
        "\n",
        "      play(turn)\n",
        "      \n",
        "      return\n",
        "\n",
        "    for i in range(1000):\n",
        "      initiate(i)\n",
        "    #print(gameHist)\n",
        "        \n",
        "\n"
      ],
      "execution_count": 2,
      "outputs": []
    },
    {
      "cell_type": "markdown",
      "metadata": {
        "id": "mcROLPje1Fnw",
        "colab_type": "text"
      },
      "source": [
        "Print gameHist for demo."
      ]
    },
    {
      "cell_type": "code",
      "metadata": {
        "id": "HCf8rZuILl9F",
        "colab_type": "code",
        "colab": {}
      },
      "source": [
        "print(gameHist[:10])"
      ],
      "execution_count": null,
      "outputs": []
    },
    {
      "cell_type": "markdown",
      "metadata": {
        "id": "WpkOR8m31PMX",
        "colab_type": "text"
      },
      "source": [
        "# Split the dataset\n",
        "\n",
        "\n",
        "*   For each element in gameHist element[0] is added to x_train anf element[1] is added to y_train by converting it to a single number between 0 to 8 for nine places.\n",
        "*   y_train is then converted into one-hot vectors using to_categogrial function.  \n",
        "\n",
        "\n"
      ]
    },
    {
      "cell_type": "code",
      "metadata": {
        "id": "FPtF-NtM3vA-",
        "colab_type": "code",
        "colab": {}
      },
      "source": [
        "x_train = []\n",
        "y_train = []\n",
        "a = 0\n",
        "for i in gameHist:\n",
        "  if a%2==0:\n",
        "    x_train.append(np.array(i))\n",
        "  else:\n",
        "    y_train.append(3*i[0]+i[1])\n",
        "  a+=1\n",
        "\n",
        "x_train = np.array(x_train).reshape((-1, 9))\n",
        "y_train = to_categorical(y_train)\n",
        "x_train= np.array(x_train)\n",
        "print(x_train.shape)\n",
        "print(y_train.shape)"
      ],
      "execution_count": null,
      "outputs": []
    },
    {
      "cell_type": "markdown",
      "metadata": {
        "id": "lfP4hwsm2Fch",
        "colab_type": "text"
      },
      "source": [
        "#Define the Model"
      ]
    },
    {
      "cell_type": "code",
      "metadata": {
        "id": "Tdu10VqpvIQZ",
        "colab_type": "code",
        "colab": {
          "base_uri": "https://localhost:8080/",
          "height": 386
        },
        "outputId": "2e53cc99-4123-4cc1-e84f-d9addb927a23"
      },
      "source": [
        "model = tf.keras.models.Sequential([\n",
        "  tf.keras.layers.Dense(200, activation='relu', input_shape=(9,)),\n",
        "  tf.keras.layers.Dropout(0.2),\n",
        "  tf.keras.layers.Dense(125, activation='relu'),\n",
        "  tf.keras.layers.Dense(75, activation='relu'),\n",
        "  tf.keras.layers.Dropout(0.1),\n",
        "  tf.keras.layers.Dense(25, activation='relu'),      \n",
        "  tf.keras.layers.Dense(9, activation='softmax'),                            \n",
        "])\n",
        "model.compile(loss='categorical_crossentropy', optimizer='rmsprop', metrics=['accuracy'])\n",
        "model.summary()"
      ],
      "execution_count": 7,
      "outputs": [
        {
          "output_type": "stream",
          "text": [
            "Model: \"sequential\"\n",
            "_________________________________________________________________\n",
            "Layer (type)                 Output Shape              Param #   \n",
            "=================================================================\n",
            "dense (Dense)                (None, 200)               2000      \n",
            "_________________________________________________________________\n",
            "dropout (Dropout)            (None, 200)               0         \n",
            "_________________________________________________________________\n",
            "dense_1 (Dense)              (None, 125)               25125     \n",
            "_________________________________________________________________\n",
            "dense_2 (Dense)              (None, 75)                9450      \n",
            "_________________________________________________________________\n",
            "dropout_1 (Dropout)          (None, 75)                0         \n",
            "_________________________________________________________________\n",
            "dense_3 (Dense)              (None, 25)                1900      \n",
            "_________________________________________________________________\n",
            "dense_4 (Dense)              (None, 9)                 234       \n",
            "=================================================================\n",
            "Total params: 38,709\n",
            "Trainable params: 38,709\n",
            "Non-trainable params: 0\n",
            "_________________________________________________________________\n"
          ],
          "name": "stdout"
        }
      ]
    },
    {
      "cell_type": "markdown",
      "metadata": {
        "id": "3AqI5L352JkV",
        "colab_type": "text"
      },
      "source": [
        "# Train the Model"
      ]
    },
    {
      "cell_type": "code",
      "metadata": {
        "id": "Z9-SYs7PvM_K",
        "colab_type": "code",
        "colab": {}
      },
      "source": [
        "history = model.fit(x_train,y_train,\n",
        "                    epochs = 150,\n",
        "                    )"
      ],
      "execution_count": null,
      "outputs": []
    },
    {
      "cell_type": "markdown",
      "metadata": {
        "id": "pLR53WYe2ROc",
        "colab_type": "text"
      },
      "source": [
        "# Play Game\n",
        "Here you have to insert value between 1 to 9 when its your turn. "
      ]
    },
    {
      "cell_type": "code",
      "metadata": {
        "id": "eeXaHSr4Crkg",
        "colab_type": "code",
        "colab": {}
      },
      "source": [
        "rows = 3\n",
        "cols = 3\n",
        "board_size = rows * cols\n",
        "\n",
        "class state:\n",
        "  data = np.zeros((9,1))\n",
        "  winner = None\n",
        "  end = None\n",
        "  turn = None\n",
        "  \n",
        "    \n",
        "\n",
        "  def initiate(self):\n",
        "\n",
        "    self.winner = None\n",
        "    self.data = np.zeros((9,1)) \n",
        "    self.end = False\n",
        "    self.turn = None\n",
        "\n",
        "\n",
        "    decide = int(input(\"Press : \\n 1. Computer First \\n 2. Human First \\n \"))\n",
        "    if decide == 1 :\n",
        "      self.turn = 1\n",
        "      self.play()\n",
        "    elif decide == 2 :\n",
        "      self.turn = 0\n",
        "      self.play()\n",
        "    else:\n",
        "      self.initiate()\n",
        "\n",
        "  \n",
        "  def endgame(self):\n",
        "    if self.data[0]==self.data[1]==self.data[2]==1 or self.data[3]==self.data[4]==self.data[5]==1 or self.data[6]==self.data[7]==self.data[8]==1:\n",
        "      print(\"AI Wins\")\n",
        "      return True\n",
        "    elif self.data[0]==self.data[1]==self.data[2]==-1 or self.data[3]==self.data[4]==self.data[5]==-1 or self.data[6]==self.data[7]==self.data[8]==-1:\n",
        "      print(\"Player Wins\")\n",
        "      return True\n",
        "    elif self.data[0]==self.data[3]==self.data[6]==1 or self.data[1]==self.data[4]==self.data[7]==1 or self.data[2]==self.data[5]==self.data[8]==1:\n",
        "      print(\"AI Wins\")\n",
        "      return True\n",
        "    elif self.data[0]==self.data[3]==self.data[6]==-1 or self.data[1]==self.data[4]==self.data[7]==-1 or self.data[2]==self.data[5]==self.data[8]==-1:\n",
        "      print(\"Player Wins\")\n",
        "      return True\n",
        "    elif self.data[0]==self.data[4]==self.data[8]==1 or self.data[2]==self.data[4]==self.data[6]==1:\n",
        "      print(\"AI Wins\")\n",
        "      return True\n",
        "    elif self.data[0]==self.data[4]==self.data[8]==-1 or self.data[2]==self.data[4]==self.data[6]==-1:\n",
        "      print(\"Player Wins\")\n",
        "      return True\n",
        "    \n",
        "    return False\n",
        "\n",
        "\n",
        "\n",
        "  def print_grid(self):\n",
        "    c = 0\n",
        "    for i in self.data:\n",
        "      print(i, end=\" \")\n",
        "      c+=1\n",
        "      if c%3==0:\n",
        "        print(\"\\n\")\n",
        "    print(\"\\n\\n\")\n",
        "\n",
        "\n",
        "  def play(self): \n",
        "    step = 0\n",
        "\n",
        "    while self.end!=1 and step<9:\n",
        "    \n",
        "      if self.turn == 1 :\n",
        "        self.make_a_move()\n",
        "    \n",
        "      elif self.turn == 0 :\n",
        "        self.human_to_move()\n",
        "      \n",
        "      step+=1\n",
        "\n",
        "      #Check Winner ar is a Tie\n",
        "      if self.endgame()!=False or step == 9:\n",
        "        if self.endgame()==False:\n",
        "          print(\"TIE\")\n",
        "        break\n",
        "\n",
        "\n",
        "\n",
        "  def human_to_move(self):\n",
        "    x = int(input(\"Player : \"))\n",
        "    if self.data[x-1]==0:\n",
        "      print(\"\\nYour Turn : \\n\")\n",
        "      self.data[x-1][0] = -1\n",
        "      self.turn = 1\n",
        "      self.print_grid()\n",
        "    else : \n",
        "      print(\"Enter proper value\")\n",
        "      self.human_to_move()\n",
        "\n",
        "\n",
        "  def make_a_move(self):\n",
        "    print(\"\\nComputer's Turn : \\n\")\n",
        "    l=model.predict(np.transpose(self.data))\n",
        "    k = l.argmax()\n",
        "    print(k,l)\n",
        "    if self.data[k]!=0:\n",
        "      while self.data[k]!=0:\n",
        "        print(l,k)\n",
        "        l[0][k]=0\n",
        "        k = l.argmax()\n",
        "    print(k)\n",
        "    self.data[k][0] = 1\n",
        "    self.turn = 0\n",
        "    self.print_grid()\n",
        "\n",
        "      \n",
        "    \n",
        "s1 = state()\n",
        "s1.initiate()"
      ],
      "execution_count": null,
      "outputs": []
    },
    {
      "cell_type": "markdown",
      "metadata": {
        "id": "z1gbosyN2xqb",
        "colab_type": "text"
      },
      "source": [
        "#Save the Model"
      ]
    },
    {
      "cell_type": "code",
      "metadata": {
        "id": "IczxE7oQ2rp8",
        "colab_type": "code",
        "colab": {}
      },
      "source": [
        "model.save('tic-tac-toe.h5')"
      ],
      "execution_count": null,
      "outputs": []
    },
    {
      "cell_type": "markdown",
      "metadata": {
        "id": "s7rg3Jlj21iK",
        "colab_type": "text"
      },
      "source": [
        "#Save the model in JSON format using tfjs"
      ]
    },
    {
      "cell_type": "code",
      "metadata": {
        "id": "g9PBEcGGqKJh",
        "colab_type": "code",
        "colab": {}
      },
      "source": [
        "!pip install tensorflowjs\n",
        "import tensorflowjs as tfjs\n",
        "tfjs.converters.save_keras_model(model,\"/content/\")"
      ],
      "execution_count": null,
      "outputs": []
    }
  ]
}